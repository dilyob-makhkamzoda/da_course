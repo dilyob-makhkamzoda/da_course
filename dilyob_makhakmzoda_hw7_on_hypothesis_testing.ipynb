{
 "cells": [
  {
   "cell_type": "markdown",
   "metadata": {},
   "source": [
    "## Домашнее задание по выборочным распределениям\n",
    "### Махкамзода Дилёб"
   ]
  },
  {
   "cell_type": "code",
   "execution_count": 12,
   "metadata": {},
   "outputs": [],
   "source": [
    "import scipy.stats as stats\n",
    "import numpy as np\n",
    "\n",
    "def one_sample_t_test(sample_mean, pop_mean, sample_std, n, alternative='two-sided'):\n",
    "    t_stat = (sample_mean - pop_mean) / (sample_std / np.sqrt(n))\n",
    "    df = n - 1\n",
    "    \n",
    "    if alternative == 'less':\n",
    "        p_value = stats.t.cdf(t_stat, df)\n",
    "    elif alternative == 'greater':\n",
    "        p_value = 1 - stats.t.cdf(t_stat, df)\n",
    "    else:\n",
    "        p_value = 2 * (1 - stats.t.cdf(abs(t_stat), df))\n",
    "    \n",
    "    return t_stat, p_value\n",
    "\n",
    "alpha = 0.05"
   ]
  },
  {
   "cell_type": "markdown",
   "metadata": {},
   "source": [
    "Задание 1. \n",
    "Производитель светодиодных лампочек заявляет что их продукция имеет средний срок службы в 2000 часов. Клиент считает что срок службы лампочек меньше заявляемого компанией. Чтобы проверить это клиент купил 50 лампочек производства этой компании и их средний срок службы составил 1980 часов, со стандартным отклонением в 66 часов. Проверьте гипотезы и вынесите заключение."
   ]
  },
  {
   "cell_type": "code",
   "execution_count": 11,
   "metadata": {},
   "outputs": [
    {
     "name": "stdout",
     "output_type": "stream",
     "text": [
      "Лампочки: t = -2.1427, p = 0.0186, Значимость: True\n",
      "Гипотеза H0 отвергается: срок службы лампочек меньше заявленного.\n"
     ]
    }
   ],
   "source": [
    "#Задание №1\n",
    "lamp_t, lamp_p = one_sample_t_test(1980, 2000, 66, 50, 'less')\n",
    "print(f\"Лампочки: t = {lamp_t:.4f}, p = {lamp_p:.4f}, Значимость: {lamp_p < alpha}\")\n",
    "\n",
    "if lamp_p < alpha:\n",
    "    print(\"Гипотеза H0 отвергается: срок службы лампочек меньше заявленного.\")\n",
    "else:\n",
    "    print(\"Недостаточно доказательств для отклонения H0: срок службы лампочек соответствует заявленному.\")"
   ]
  },
  {
   "cell_type": "markdown",
   "metadata": {},
   "source": [
    "Задание 2.\n",
    "Фасовочная машина заполняет мешки рисом в среднем по 1000гр на мешок и стандартным отклонением в 5гр. У производителя есть подозрение, что машина фасует рис в среднем больше требуемого. Он поручил сделать выборку из 100 мешков и их средний вес оказался равным 1003гр. Оправданы ли подозрения производителя?"
   ]
  },
  {
   "cell_type": "code",
   "execution_count": 6,
   "metadata": {},
   "outputs": [
    {
     "name": "stdout",
     "output_type": "stream",
     "text": [
      "Мешки риса: t = 6.0000, p = 0.0000, Значимость: True\n",
      "Гипотеза H0 отвергается: машина фасует больше риса, чем требуется.\n"
     ]
    }
   ],
   "source": [
    "#Задание №2\n",
    "rice_t, rice_p = one_sample_t_test(1003, 1000, 5, 100, 'greater')\n",
    "print(f\"Мешки риса: t = {rice_t:.4f}, p = {rice_p:.4f}, Значимость: {rice_p < alpha}\")\n",
    "\n",
    "if rice_p < alpha:\n",
    "    print(\"Гипотеза H0 отвергается: машина фасует больше риса, чем требуется.\")\n",
    "else:\n",
    "    print(\"Недостаточно доказательств для отклонения H0: фасовка соответствует норме.\")\n"
   ]
  },
  {
   "cell_type": "markdown",
   "metadata": {},
   "source": [
    "Задание №3.\n",
    "Утверждается что домашние коты живут в среднем 15.7 лет. Учёный решил проверить истинность этого утверждения и замерил срок жизни 40 домашних котов в своём городе. Средний срок жизни котов в выборке оказался равным 16.5 годам со стандартным отклонением в 1.6 лет. Значит ли это, что коты в среднем живут дольше чем принято считать?"
   ]
  },
  {
   "cell_type": "code",
   "execution_count": 7,
   "metadata": {},
   "outputs": [
    {
     "name": "stdout",
     "output_type": "stream",
     "text": [
      "Коты: t = 3.1623, p = 0.0015, Значимость: True\n",
      "Гипотеза H0 отвергается: коты в среднем живут дольше, чем принято считать.\n"
     ]
    }
   ],
   "source": [
    "#задание №3\n",
    "cats_t, cats_p = one_sample_t_test(16.5, 15.7, 1.6, 40, 'greater')\n",
    "print(f\"Коты: t = {cats_t:.4f}, p = {cats_p:.4f}, Значимость: {cats_p < alpha}\")\n",
    "\n",
    "if cats_p < alpha:\n",
    "    print(\"Гипотеза H0 отвергается: коты в среднем живут дольше, чем принято считать.\")\n",
    "else:\n",
    "    print(\"Недостаточно доказательств для отклонения H0: средний срок жизни котов соответствует заявленному.\")"
   ]
  },
  {
   "cell_type": "markdown",
   "metadata": {},
   "source": [
    "Задание №4.\n",
    "Здоровый новорожденный весит в среднем 3.40кг со стандартным отклонением в 0.45кг. Выборка из 49 новорожденных была взвешена и средний вес оказался равным 3.29кг. Проверьте следующие гипотезы: Ho:μ=3.4 и Ha:μ<3.4"
   ]
  },
  {
   "cell_type": "code",
   "execution_count": null,
   "metadata": {},
   "outputs": [
    {
     "name": "stdout",
     "output_type": "stream",
     "text": [
      "Новорожденные: t = -1.7111, p = 0.0468, Значимость: True\n",
      "Гипотеза H0 отвергается: средний вес новорожденных меньше 3.4 кг.\n"
     ]
    }
   ],
   "source": [
    "#Задание №4\n",
    "babies_t, babies_p = one_sample_t_test(3.29, 3.4, 0.45, 49, 'less')\n",
    "print(f\"Новорожденные: t = {babies_t:.4f}, p = {babies_p:.4f}, Значимость: {babies_p < alpha}\")\n",
    "\n",
    "if babies_p < alpha:\n",
    "    print(\"Гипотеза H0 отвергается: средний вес новорожденных меньше 3.4 кг.\")\n",
    "else:\n",
    "    print(\"Недостаточно доказательств для отклонения H0: средний вес новорожденных соответствует 3.4 кг.\")"
   ]
  },
  {
   "cell_type": "markdown",
   "metadata": {},
   "source": [
    "Задание 5.\n",
    "В популяции средний показатель IQ составляет 100 со стандартным отклонением 15. Команда ученых хочет проверить новое лекарство, чтобы выяснить, оказывает ли оно положительное или отрицательное влияние на интеллект, или же не оказывает никакого эффекта. В выборке из 30 участников, которые принимали лекарство, средний показатель IQ составил 140. Повлияло ли лекарство на интеллект?"
   ]
  },
  {
   "cell_type": "code",
   "execution_count": 13,
   "metadata": {},
   "outputs": [
    {
     "name": "stdout",
     "output_type": "stream",
     "text": [
      "Z-статистика: 14.61\n",
      "p-значение: 0.000\n"
     ]
    }
   ],
   "source": [
    "#задание №5\n",
    "mu = 100\n",
    "sigma = 15 \n",
    "x_bar = 140\n",
    "n = 30 \n",
    "\n",
    "z_score = (x_bar - mu) / (sigma / (n ** 0.5))\n",
    "p_value = 2 * (1 - stats.norm.cdf(abs(z_score)))\n",
    "\n",
    "print(f\"Z-статистика: {z_score:.2f}\")\n",
    "print(f\"p-значение: {p_value:.3f}\")"
   ]
  }
 ],
 "metadata": {
  "kernelspec": {
   "display_name": "Python 3",
   "language": "python",
   "name": "python3"
  },
  "language_info": {
   "codemirror_mode": {
    "name": "ipython",
    "version": 3
   },
   "file_extension": ".py",
   "mimetype": "text/x-python",
   "name": "python",
   "nbconvert_exporter": "python",
   "pygments_lexer": "ipython3",
   "version": "3.13.2"
  }
 },
 "nbformat": 4,
 "nbformat_minor": 2
}
