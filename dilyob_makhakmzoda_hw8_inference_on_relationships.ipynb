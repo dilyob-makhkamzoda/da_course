{
 "cells": [
  {
   "cell_type": "markdown",
   "metadata": {},
   "source": [
    "## Домашнее задание по выборочным распределениям\n",
    "### Дилёб Махкамзода  "
   ]
  },
  {
   "cell_type": "markdown",
   "metadata": {},
   "source": [
    "Задача №1.\n",
    "У случайной выборки людей разного возраста спросили надевают ли они очки при чтении. Результаты приведены в таблице ниже. Имеется ли взаимосвязь между возрастом и ношением очков?"
   ]
  },
  {
   "cell_type": "code",
   "execution_count": 5,
   "metadata": {},
   "outputs": [
    {
     "name": "stdout",
     "output_type": "stream",
     "text": [
      "Chi-square test:\n",
      "Chi2 statistic: 36.7951, p-value: 0.000\n"
     ]
    }
   ],
   "source": [
    "import numpy as np\n",
    "import scipy.stats as stats\n",
    "import pandas as pd\n",
    "\n",
    "# Задача 1:\n",
    "data1 = np.array([[15, 56], [19, 37], [34, 35], [51, 23]])\n",
    "chi2_stat, p, dof, expected = stats.chi2_contingency(data1)\n",
    "print(\"Chi-square test:\")\n",
    "print(f\"Chi2 statistic: {chi2_stat:.4f}, p-value: {p:.3f}\")"
   ]
  },
  {
   "cell_type": "markdown",
   "metadata": {},
   "source": [
    "Задача №2.\n",
    "Случайная выборка студентов была разделена на 3 группы и каждая из них готовилась к сдаче экзамена по одной из 3 методик (A, B, C). В таблице ниже приведены оценки по экзамену студентов каждой группы. Определите имеются ли различия между группами."
   ]
  },
  {
   "cell_type": "code",
   "execution_count": 6,
   "metadata": {},
   "outputs": [
    {
     "name": "stdout",
     "output_type": "stream",
     "text": [
      "ANOVA test:\n",
      "F-statistic: 2.3575, p-value: 0.114\n"
     ]
    }
   ],
   "source": [
    "# Задача 2:\n",
    "group1 = [85, 86, 88, 75, 78, 94, 98, 79, 71, 80]\n",
    "group2 = [91, 92, 93, 85, 87, 84, 82, 88, 95, 96]\n",
    "group3 = [79, 78, 88, 94, 92, 85, 83, 85, 82, 81]\n",
    "anova_stat, p_anova = stats.f_oneway(group1, group2, group3)\n",
    "print(\"ANOVA test:\")\n",
    "print(f\"F-statistic: {anova_stat:.4f}, p-value: {p_anova:.3f}\")"
   ]
  },
  {
   "cell_type": "markdown",
   "metadata": {},
   "source": [
    "Задача №3.\n",
    "Случайная выборка 20 игроков в баскетбол была отобрана для улучшения высоты их вертикального прыжка специальным методом тренировок. Высота максимального вертикального прыжка (в сантиметрах) каждого игрока измерили при отборе а потом измерили повторно, после прохождения тренировок. Результаты представлены в таблице ниже. Улучшила ли программа высоту вертикального прыжка игроков?"
   ]
  },
  {
   "cell_type": "code",
   "execution_count": 4,
   "metadata": {},
   "outputs": [
    {
     "name": "stdout",
     "output_type": "stream",
     "text": [
      "Paired t-test:\n",
      "t-statistic: 3.2262, p-value: 0.004\n"
     ]
    }
   ],
   "source": [
    "# Задача 3:\n",
    "before = np.array([55.88, 50.80, 48.26, 60.96, 63.50, 63.50, 71.12, 55.88, 76.20, 68.58, \n",
    "                   60.96, 45.72, 40.64, 48.26, 48.26, 71.12, 60.96, 63.50, 63.50, 58.42])\n",
    "after = np.array([60.96, 55.88, 48.26, 55.88, 71.12, 66.04, 71.12, 60.96, 76.20, 73.66, \n",
    "                  63.50, 50.80, 43.18, 45.72, 45.72, 71.12, 66.04, 68.58, 68.58, 60.96])\n",
    "t_stat, p_ttest = stats.ttest_rel(after, before)\n",
    "print(\"Paired t-test:\")\n",
    "print(f\"t-statistic: {t_stat:.4f}, p-value: {p_ttest:.3f}\")"
   ]
  }
 ],
 "metadata": {
  "kernelspec": {
   "display_name": "Python 3",
   "language": "python",
   "name": "python3"
  },
  "language_info": {
   "codemirror_mode": {
    "name": "ipython",
    "version": 3
   },
   "file_extension": ".py",
   "mimetype": "text/x-python",
   "name": "python",
   "nbconvert_exporter": "python",
   "pygments_lexer": "ipython3",
   "version": "3.13.2"
  }
 },
 "nbformat": 4,
 "nbformat_minor": 2
}
